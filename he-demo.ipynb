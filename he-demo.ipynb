{
 "cells": [
  {
   "cell_type": "code",
   "execution_count": 2,
   "metadata": {},
   "outputs": [
    {
     "data": {
      "application/vnd.jupyter.widget-view+json": {
       "model_id": "de0d28dba1fb4e9ba68acc02e6f1ae3f",
       "version_major": 2,
       "version_minor": 0
      },
      "text/plain": [
       "interactive(children=(Dropdown(description='N', options=(10, 25, 50, 100, 200, 500), value=None), Dropdown(des…"
      ]
     },
     "metadata": {},
     "output_type": "display_data"
    }
   ],
   "source": [
    "from he import *\n",
    "\n",
    "import ipywidgets as widgets\n",
    "import matplotlib.pyplot as plt\n",
    "\n",
    "class HeDemo:\n",
    "    he = HarmonicEntropy(N=100, a=7, limit=1200, s=17, verbose=0)\n",
    "    he3 = HarmonicEntropy(N=100, a=7, limit=1200, s=17, he3=True, verbose=0)\n",
    "\n",
    "    figure = None\n",
    "    entropy1 = None\n",
    "    entropy2 = None\n",
    "\n",
    "    def update(self, N=None, limit=None, alpha=None, spread=None, weight=None):\n",
    "        # global entropy\n",
    "        # global entropy_triads\n",
    "        # global im\n",
    "        global plt\n",
    "\n",
    "        updateBasis = False\n",
    "        if N is not None and self.he.N != N:\n",
    "            updateBasis = True\n",
    "\n",
    "        cents = None\n",
    "        if limit is not None:\n",
    "            cents = ratio_to_cents(limit)\n",
    "            if self.he.limit != cents:\n",
    "                updateBasis = True\n",
    "\n",
    "        self.he.update(spread, N, None, cents, alpha, weight)\n",
    "        self.he3.update(spread, N, None, cents, alpha, weight)\n",
    "\n",
    "        if updateBasis:\n",
    "            self.he.prepareBasis()\n",
    "            self.he3.prepare3heBasis()\n",
    "\n",
    "        self.figure, [ self.entropy1,\n",
    "                       self.entropy2 ] = plt.subplots(ncols=2, figsize=(15, 5), gridspec_kw={'width_ratios':[5,3], 'height_ratios':[1]})\n",
    "\n",
    "        self.he.calculate()\n",
    "        self.he3.calculate()\n",
    "\n",
    "        self.entropy1.plot(self.he.x_axis, self.he.Entropy)\n",
    "        y_max = self.he.Entropy.max()\n",
    "        if y_max < 6:\n",
    "            y_max = 6\n",
    "\n",
    "        self.entropy1.set_ylim((0, y_max))\n",
    "\n",
    "        self.entropy2.imshow(self.he3.Entropy, cmap=\"inferno\", aspect=\"equal\", origin=\"lower\")\n",
    "        self.entropy2.set_axis_off()\n",
    "\n",
    "\n",
    "demo = HeDemo()\n",
    "\n",
    "plot_controls = widgets.interact(demo.update,\n",
    "                N=[10,25,50,100,200,500],\n",
    "                limit=[2,3,4,5,6,7,8],\n",
    "                alpha=(1.0, 10.0),\n",
    "                weight=[\"default\", \"lencf\", \"lenmaxcf\", \"sumcf\"],\n",
    "                spread=(1.0, 20.0)\n",
    "                )\n",
    "\n",
    "plt.show()\n",
    "\n"
   ]
  }
 ],
 "metadata": {
  "kernelspec": {
   "display_name": "Python 3",
   "language": "python",
   "name": "python3"
  },
  "language_info": {
   "codemirror_mode": {
    "name": "ipython",
    "version": 3
   },
   "file_extension": ".py",
   "mimetype": "text/x-python",
   "name": "python",
   "nbconvert_exporter": "python",
   "pygments_lexer": "ipython3",
   "version": "3.10.7"
  }
 },
 "nbformat": 4,
 "nbformat_minor": 2
}
