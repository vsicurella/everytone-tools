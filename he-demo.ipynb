{
 "cells": [
  {
   "cell_type": "code",
   "execution_count": null,
   "metadata": {},
   "outputs": [
    {
     "data": {
      "application/vnd.jupyter.widget-view+json": {
       "model_id": "5957864330334234af7c7749ba3c8e50",
       "version_major": 2,
       "version_minor": 0
      },
      "text/plain": [
       "interactive(children=(Dropdown(description='N', options=(10, 25, 50, 100, 200, 500), value=None), FloatSlider(…"
      ]
     },
     "metadata": {},
     "output_type": "display_data"
    },
    {
     "data": {
      "text/plain": [
       "<function __main__.update(N=None, alpha=None, spread=None, weight=None)>"
      ]
     },
     "execution_count": 2,
     "metadata": {},
     "output_type": "execute_result"
    }
   ],
   "source": [
    "from he import *\n",
    "import ipywidgets as widgets\n",
    "import matplotlib.pyplot as plt\n",
    "\n",
    "plot = None\n",
    "he = HarmonicEntropy(N=100, a=7, limit=1200, s=17)\n",
    "\n",
    "def update(N=None, alpha=None, spread=None, weight=None):\n",
    "    if N is not None and he.N != N:\n",
    "        he.N = N\n",
    "        he.prepareBasis()\n",
    "    if weight is not None and he.weight_option != weight:\n",
    "        he.setWeightingOption(weight)\n",
    "    if alpha is not None and he.a != alpha:\n",
    "        he.a = alpha\n",
    "    if spread is not None and he.s != spread:\n",
    "        he.s = spread\n",
    "\n",
    "    he.calculate()\n",
    "    plt.plot(he.x_axis, he.Entropy)\n",
    "\n",
    "    y_max = he.Entropy.max()\n",
    "    if y_max < 6:\n",
    "        y_max = 6\n",
    "\n",
    "    plt.ylim((0, y_max))\n",
    "    plt.show()\n",
    "\n",
    "\n",
    "widgets.interact(update,\n",
    "                N=[10,25,50,100,200,500], \n",
    "                alpha=(1.0, 10.0),\n",
    "                weight=[\"default\", \"lencf\", \"lenmaxcf\", \"sumcf\"],\n",
    "                spread=(1.0, 20.0)\n",
    "                )"
   ]
  },
  {
   "cell_type": "code",
   "execution_count": 4,
   "metadata": {},
   "outputs": [
    {
     "name": "stdout",
     "output_type": "stream",
     "text": [
      "Preparing basis...\n",
      "\tSet size: 141211\n"
     ]
    },
    {
     "data": {
      "application/vnd.jupyter.widget-view+json": {
       "model_id": "b7218d299b1a4ceb9473d6c9dc2e6b1c",
       "version_major": 2,
       "version_minor": 0
      },
      "text/plain": [
       "interactive(children=(Dropdown(description='N', options=(10, 25, 50, 100, 200, 500), value=None), FloatSlider(…"
      ]
     },
     "metadata": {},
     "output_type": "display_data"
    },
    {
     "data": {
      "text/plain": [
       "<function __main__.update(N=None, alpha=None, spread=None, weight=None)>"
      ]
     },
     "execution_count": 4,
     "metadata": {},
     "output_type": "execute_result"
    }
   ],
   "source": [
    "from he import *\n",
    "import ipywidgets as widgets\n",
    "import matplotlib.pyplot as plt\n",
    "\n",
    "\n",
    "he3 = HarmonicEntropy(N=100, a=7, limit=1200, s=17, he3=True) \n",
    "\n",
    "def update(N=None, alpha=None, spread=None, weight=None):\n",
    "    global figure\n",
    "    global im\n",
    "\n",
    "    if N is not None and he3.N != N:\n",
    "        he3.N = N\n",
    "        he3.prepare3heBasis()\n",
    "    if weight is not None and he3.weight_func_name != weight:\n",
    "        he3.setWeightingOption(weight)\n",
    "    if alpha is not None and he3.a != alpha:\n",
    "        he3.a = alpha\n",
    "    if spread is not None and he3.s != spread:\n",
    "        he3.s = spread\n",
    "\n",
    "    he3.calculate()\n",
    "\n",
    "    # if not he3.plotted:\n",
    "    figure = plt.figure(figsize=(10,10))\n",
    "    plt.axis('off')\n",
    "    # he3.plotted = True\n",
    "    im = plt.imshow(he3.Entropy, cmap=\"inferno\", aspect=\"equal\", origin=\"lower\")\n",
    "    plt.show()\n",
    "\n",
    "        \n",
    "\n",
    "\n",
    "\n",
    "# widgets.interact(setN, N=(10, 100))\n",
    "widgets.interact(update,\n",
    "                N=[10,25,50,100,200,500], \n",
    "                alpha=(1.0, 10.0),\n",
    "                weight=[\"default\", \"lencf\", \"lenmaxcf\", \"sumcf\"],\n",
    "                spread=(1.0, 20.0)\n",
    "                )"
   ]
  }
 ],
 "metadata": {
  "kernelspec": {
   "display_name": "Python 3",
   "language": "python",
   "name": "python3"
  },
  "language_info": {
   "codemirror_mode": {
    "name": "ipython",
    "version": 3
   },
   "file_extension": ".py",
   "mimetype": "text/x-python",
   "name": "python",
   "nbconvert_exporter": "python",
   "pygments_lexer": "ipython3",
   "version": "3.10.7"
  }
 },
 "nbformat": 4,
 "nbformat_minor": 2
}
