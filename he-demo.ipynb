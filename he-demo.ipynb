{
 "cells": [
  {
   "cell_type": "code",
   "execution_count": 1,
   "metadata": {},
   "outputs": [
    {
     "data": {
      "application/vnd.jupyter.widget-view+json": {
       "model_id": "227ef6f8165742718d4994a1ebe3c589",
       "version_major": 2,
       "version_minor": 0
      },
      "text/plain": [
       "interactive(children=(Dropdown(description='N', index=3, options=(10, 25, 50, 100, 200, 500), value=100), Drop…"
      ]
     },
     "metadata": {},
     "output_type": "display_data"
    }
   ],
   "source": [
    "from he import *\n",
    "\n",
    "import ipywidgets as widgets\n",
    "import matplotlib.pyplot as plt\n",
    "\n",
    "class HeDemo:\n",
    "    he = HarmonicEntropy(N=100, a=7, limit=1200, s=17, verbose=0)\n",
    "    he3 = HarmonicEntropy(N=100, a=7, limit=1200, s=17, he3=True, verbose=0)\n",
    "\n",
    "    figure = None\n",
    "    entropy1 = None\n",
    "    entropy2 = None\n",
    "\n",
    "    def update(self, N=None, limit=None, alpha=None, spread=None, weight=None, scroll=None):\n",
    "        cents = None\n",
    "        if limit is not None:\n",
    "            cents = ratio_to_cents(limit)\n",
    "\n",
    "        self.he.update(spread, N, None, cents, alpha, weight)\n",
    "        self.he3.update(spread, N, None, cents, alpha, weight)\n",
    "\n",
    "        self.he.calculate()\n",
    "        self.he3.calculate()\n",
    "\n",
    "        self.figure, [ self.entropy1,\n",
    "                       self.entropy2 ] = plt.subplots(ncols=2, figsize=(15, 5), gridspec_kw={'width_ratios':[5,3], 'height_ratios':[1]})\n",
    "\n",
    "        (x1,y1) = self.he.getEntropyPlotData(scroll[0], scroll[1])\n",
    "        self.entropy1.plot(x1, y1)\n",
    "        y_max = y1.max()\n",
    "        if y_max < 6:\n",
    "            y_max = 6\n",
    "        self.entropy1.set_ylim((0, y_max))\n",
    "\n",
    "        (xy2_grid, z) = self.he3.getEntropyPlotData(scroll[0], scroll[1])\n",
    "        self.entropy2.imshow(z, cmap=\"inferno\", aspect=\"equal\", origin=\"lower\")\n",
    "        self.entropy2.set_axis_off()\n",
    "\n",
    "\n",
    "demo = HeDemo()\n",
    "\n",
    "default_limit=2\n",
    "\n",
    "n_size_select = widgets.Dropdown(options=[10,25,50,100,200,500], value=100)\n",
    "limit_select = widgets.Dropdown(options=[2,3,4,5,6,7,8], value=default_limit)\n",
    "alpha_slider = widgets.FloatSlider(min=1e-4, max=10, value=7, step=0.01)\n",
    "spread_slider = widgets.FloatSlider(min=1, max=25, value=12, step=1)\n",
    "weight_select = widgets.Dropdown(options=[\"default\", \"lencf\", \"lenmaxcf\", \"sumcf\", \"custom\"], value=\"default\")\n",
    "scroll_widget = widgets.FloatRangeSlider(min=0, max=ratio_to_cents(default_limit), step=1, value=(0, 1200))\n",
    "\n",
    "def update_scroll_max(*args):\n",
    "    cents = ratio_to_cents(args[0].new)\n",
    "    lastMax = scroll_widget.max\n",
    "    if cents != lastMax:\n",
    "        scroll_widget.max = cents\n",
    "        scroll_widget.value = (scroll_widget.min, scroll_widget.max)\n",
    "        \n",
    "limit_select.observe(update_scroll_max, 'value')\n",
    "\n",
    "controls = widgets.interact(demo.update,\n",
    "                N=n_size_select,\n",
    "                limit=limit_select,\n",
    "                alpha=alpha_slider,\n",
    "                weight=weight_select,\n",
    "                spread=spread_slider,\n",
    "                scroll=scroll_widget\n",
    "                )\n",
    "\n",
    "plt.show()\n"
   ]
  }
 ],
 "metadata": {
  "kernelspec": {
   "display_name": "Python 3",
   "language": "python",
   "name": "python3"
  },
  "language_info": {
   "codemirror_mode": {
    "name": "ipython",
    "version": 3
   },
   "file_extension": ".py",
   "mimetype": "text/x-python",
   "name": "python",
   "nbconvert_exporter": "python",
   "pygments_lexer": "ipython3",
   "version": "3.10.7"
  }
 },
 "nbformat": 4,
 "nbformat_minor": 2
}
