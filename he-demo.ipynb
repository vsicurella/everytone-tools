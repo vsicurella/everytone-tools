{
 "cells": [
  {
   "cell_type": "code",
   "execution_count": 3,
   "metadata": {
    "vscode": {
     "languageId": "html"
    }
   },
   "outputs": [
    {
     "data": {
      "text/html": [
       "    <style>\n",
       "    .box_style{\n",
       "        /* width:40%; */\n",
       "        height: auto;\n",
       "        /* background-color:#242322; */\n",
       "    }\n",
       "\n",
       "    .select_box{\n",
       "        width: 50%;\n",
       "    }\n",
       "    </style>\n"
      ],
      "text/plain": [
       "<IPython.core.display.HTML object>"
      ]
     },
     "metadata": {},
     "output_type": "display_data"
    }
   ],
   "source": [
    "    %%html\n",
    "        <style>\n",
    "        .box_style{\n",
    "            /* width:40%; */\n",
    "            height: auto;\n",
    "            /* background-color:#242322; */\n",
    "        }\n",
    "\n",
    "        .select_box{\n",
    "            width: 50%;\n",
    "        }\n",
    "        </style>"
   ]
  },
  {
   "cell_type": "code",
   "execution_count": 4,
   "metadata": {},
   "outputs": [
    {
     "data": {
      "application/vnd.jupyter.widget-view+json": {
       "model_id": "40461d28b45e42a2bb08ecf3ad9112fc",
       "version_major": 2,
       "version_minor": 0
      },
      "text/plain": [
       "HBox(children=(VBox(children=(Dropdown(description='N', index=3, options=(10, 25, 50, 100, 200, 500), value=10…"
      ]
     },
     "metadata": {},
     "output_type": "display_data"
    },
    {
     "data": {
      "application/vnd.jupyter.widget-view+json": {
       "model_id": "3a1920b915b340fa895f9286f2628b55",
       "version_major": 2,
       "version_minor": 0
      },
      "text/plain": [
       "Output()"
      ]
     },
     "metadata": {},
     "output_type": "display_data"
    }
   ],
   "source": [
    "from he import *\n",
    "\n",
    "from IPython.display import display\n",
    "import ipywidgets as widgets\n",
    "import matplotlib.pyplot as plt\n",
    "\n",
    "class HeDemo:\n",
    "\n",
    "    BACKGROUND_COLOR=\"#242322\"\n",
    "\n",
    "    DEBUG=0\n",
    "\n",
    "    def __init__(self):\n",
    "        self.he = HarmonicEntropy(N=100, a=7, limit=1200, s=17, verbose=self.DEBUG)\n",
    "        self.he3 = HarmonicEntropy(N=100, a=7, limit=1200, s=17, he3=True, verbose=self.DEBUG)\n",
    "\n",
    "        self.figure = None\n",
    "        self.entropy1 = None\n",
    "        self.entropy2 = None\n",
    "\n",
    "        self.default_limit=2\n",
    "\n",
    "        self.last_update = {}\n",
    "\n",
    "        self.limit_option_harmonics = [2,3,4,5,6,7,8]\n",
    "        self.limit_option_cents = [ ratio_to_cents(h) for h in self.limit_option_harmonics ]\n",
    "        self.limit_options = [ (str(self.limit_option_harmonics[i]), self.limit_option_cents[i]) for i in range(len(self.limit_option_harmonics)) ]\n",
    "\n",
    "        self.n_size_select = widgets.Dropdown(options=[10,25,50,100,200,500], value=100, description=\"N\")\n",
    "        self.limit_select = widgets.Dropdown(options=self.limit_options, value=1200.0, description=\"Harmonic Limit\")\n",
    "        self.alpha_slider = widgets.FloatSlider(min=1e-4, max=10, value=7, step=0.01, description=\"alpha\")\n",
    "        self.spread_slider = widgets.FloatSlider(min=1, max=25, value=12, step=1, description=\"spread\")\n",
    "        self.weight_select = widgets.Dropdown(options=[\"default\", \"lencf\", \"lenmaxcf\", \"sumcf\", \"custom\"], value=\"default\", description=\"Weighting\")\n",
    "        self.scroll_widget = widgets.FloatRangeSlider(min=0, max=ratio_to_cents(self.default_limit), step=1, value=(0, 1200), description=\"Scroll\")\n",
    "\n",
    "        # for now, these expect strings (cmdline reasons)\n",
    "        self.prime_options = [ str(p) for p in [ 1, *PRIMES[:12] ] ]\n",
    "        self.prime_limit_select = widgets.Dropdown(options=[None, *self.prime_options], value=None, description=\"Prime Limit\")\n",
    "\n",
    "        self.basis_filter_options = [\"default\", *HarmonicEntropy.BASIS_MASK_OPTIONS]\n",
    "        self.basis_filter_select = widgets.Dropdown(options=self.basis_filter_options, description=\"Filter Options\", value=None)\n",
    "\n",
    "        self.transform_options = [\"default\", *HarmonicEntropy.BASIS_TRANSFORM_OPTIONS]\n",
    "        self.transform_select = widgets.Dropdown(options=self.transform_options, description=\"Basis Transform\", value=None)\n",
    "\n",
    "        self.ypad_slider = widgets.FloatSlider(min=-10, max=10, value=0, description='y-adjust')\n",
    "\n",
    "        self.save_button = widgets.Button(description=\"Save\")\n",
    "\n",
    "    def update(self, **kwArgs):\n",
    "        scroll = None\n",
    "        if kwArgs['scroll'] is not None:\n",
    "            scroll = kwArgs['scroll']\n",
    "            del kwArgs['scroll']\n",
    "\n",
    "        update_args = { k:v for k,v in kwArgs.items() if v is not None and (k not in self.last_update or v != self.last_update[k])}\n",
    "\n",
    "        if kwArgs['bfilter'] is not None:\n",
    "            update_args[kwArgs['bfilter']] = True\n",
    "            del update_args['bfilter']\n",
    "\n",
    "        if self.DEBUG:\n",
    "            print(f'last update: {self.last_update}')\n",
    "            print(f'demo update: {update_args}')\n",
    "\n",
    "        self.he.update(update_args)\n",
    "        self.he3.update(update_args)\n",
    "\n",
    "        for k in update_args:\n",
    "            self.last_update[k] = update_args[k]\n",
    "\n",
    "        self.he.calculate()\n",
    "        self.he3.calculate()\n",
    "\n",
    "        self.figure, [ self.entropy1,\n",
    "                       self.entropy2 ] = plt.subplots(ncols=2, figsize=(15, 5), gridspec_kw={'width_ratios':[5,3], 'height_ratios':[1]})\n",
    "        # self.figure.set_facecolor(self.BACKGROUND_COLOR)\n",
    "\n",
    "        (x1,y1) = self.he.getEntropyPlotData(scroll[0], scroll[1])\n",
    "        self.entropy1.plot(x1, y1)\n",
    "        y_max = y1.max()\n",
    "        if y_max < 6:\n",
    "            y_max = 6\n",
    "        self.entropy1.set_ylim((0, y_max))\n",
    "\n",
    "        (xy2_grid, z) = self.he3.getEntropyPlotData(scroll[0], scroll[1])\n",
    "        self.entropy2.imshow(z, cmap=\"inferno\", aspect=\"equal\", origin=\"lower\")\n",
    "        self.entropy2.set_axis_off()\n",
    "\n",
    "    def update_scroll_max(self, *args):\n",
    "        cents = ratio_to_cents(args[0].new)\n",
    "        lastMax = self.scroll_widget.max\n",
    "        if cents != lastMax:\n",
    "            self.scroll_widget.max = cents\n",
    "            self.scroll_widget.value = (self.scroll_widget.min, self.scroll_widget.max)\n",
    "    \n",
    "\n",
    "    def createControls(self):\n",
    "        self.limit_select.observe(self.update_scroll_max, 'value')\n",
    "        self.save_button.on_click = lambda b: self.he3.makePlot(True, False)\n",
    "\n",
    "        modelBox = widgets.VBox([\n",
    "            self.n_size_select,\n",
    "            self.limit_select,\n",
    "            self.alpha_slider,\n",
    "            self.weight_select,\n",
    "            self.spread_slider,\n",
    "            self.scroll_widget\n",
    "            ])\n",
    "        # modelBox.add_class('box_style')\n",
    "        \n",
    "        basisControls = widgets.VBox([\n",
    "            self.prime_limit_select,\n",
    "            self.basis_filter_select,\n",
    "            self.transform_select,\n",
    "            ])\n",
    "        # basisControls.add_class('box_style')\n",
    "        \n",
    "        debugControls = widgets.VBox([\n",
    "            self.ypad_slider,\n",
    "            self.save_button\n",
    "        ])\n",
    "        # debugControls.add_class('box_style')\n",
    "\n",
    "\n",
    "        ui = widgets.HBox([modelBox, basisControls, debugControls])\n",
    "        # ui.add_class('box_style')\n",
    "\n",
    "        out = widgets.interactive_output(demo.update, {\n",
    "                    'N'       : self.n_size_select,\n",
    "                    'limit'   : self.limit_select,\n",
    "                    'weight'  : self.weight_select,\n",
    "                    's'       : self.spread_slider,\n",
    "                    'a'       : self.alpha_slider,\n",
    "                    'scroll'  : self.scroll_widget,\n",
    "                    'tx'      : self.transform_select,\n",
    "                    'p_limit' : self.prime_limit_select,\n",
    "                    'bfilter' : self.basis_filter_select,\n",
    "                    'ypad'    : self.ypad_slider,\n",
    "                    })\n",
    "        # out.add_class('box_style')\n",
    "        \n",
    "        return (ui, out)\n",
    "\n",
    "demo = HeDemo()\n",
    "display = display(*demo.createControls())\n"
   ]
  }
 ],
 "metadata": {
  "kernelspec": {
   "display_name": "Python 3",
   "language": "python",
   "name": "python3"
  },
  "language_info": {
   "codemirror_mode": {
    "name": "ipython",
    "version": 3
   },
   "file_extension": ".py",
   "mimetype": "text/x-python",
   "name": "python",
   "nbconvert_exporter": "python",
   "pygments_lexer": "ipython3",
   "version": "3.10.7"
  }
 },
 "nbformat": 4,
 "nbformat_minor": 2
}
