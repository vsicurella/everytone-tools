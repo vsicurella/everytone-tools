{
 "cells": [
  {
   "cell_type": "code",
   "execution_count": 1,
   "metadata": {},
   "outputs": [
    {
     "data": {
      "text/html": [
       "    <style>\n",
       "    .box_style{\n",
       "        /* width:40%; */\n",
       "        height: auto;\n",
       "        /* background-color:#242322; */\n",
       "    }\n",
       "\n",
       "    .select_box{\n",
       "        width: 50%;\n",
       "    }\n",
       "    </style>\n"
      ],
      "text/plain": [
       "<IPython.core.display.HTML object>"
      ]
     },
     "metadata": {},
     "output_type": "display_data"
    }
   ],
   "source": [
    "%%html\n",
    "    <style>\n",
    "    .box_style{\n",
    "        /* width:40%; */\n",
    "        height: auto;\n",
    "        /* background-color:#242322; */\n",
    "    }\n",
    "\n",
    "    .select_box{\n",
    "        width: 50%;\n",
    "    }\n",
    "    </style>"
   ]
  },
  {
   "cell_type": "code",
   "execution_count": 2,
   "metadata": {},
   "outputs": [
    {
     "name": "stdout",
     "output_type": "stream",
     "text": [
      "Unable to import ratio-db.py, perhaps due to a missing dependency. Using fallback code.\n"
     ]
    },
    {
     "data": {
      "application/vnd.jupyter.widget-view+json": {
       "model_id": "805e594a195a4b70af51f1d0f0442260",
       "version_major": 2,
       "version_minor": 0
      },
      "text/plain": [
       "HBox(children=(VBox(children=(Dropdown(description='Int Limit', index=3, options=(10, 25, 50, 100, 200, 500), …"
      ]
     },
     "metadata": {},
     "output_type": "display_data"
    },
    {
     "data": {
      "application/vnd.jupyter.widget-view+json": {
       "model_id": "8782601f1c6643d49d0ec21a8898a304",
       "version_major": 2,
       "version_minor": 0
      },
      "text/plain": [
       "Output()"
      ]
     },
     "metadata": {},
     "output_type": "display_data"
    }
   ],
   "source": [
    "from dhe_demo import *\n",
    "from IPython.display import display\n",
    "\n",
    "\n",
    "demo = DheDemo()\n",
    "display = display(*demo.createControls())\n"
   ]
  }
 ],
 "metadata": {
  "kernelspec": {
   "display_name": "Python 3",
   "language": "python",
   "name": "python3"
  },
  "language_info": {
   "codemirror_mode": {
    "name": "ipython",
    "version": 3
   },
   "file_extension": ".py",
   "mimetype": "text/x-python",
   "name": "python",
   "nbconvert_exporter": "python",
   "pygments_lexer": "ipython3",
   "version": "3.10.7"
  }
 },
 "nbformat": 4,
 "nbformat_minor": 2
}
