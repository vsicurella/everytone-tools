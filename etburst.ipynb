{
 "cells": [
  {
   "cell_type": "code",
   "execution_count": 1,
   "metadata": {},
   "outputs": [],
   "source": [
    "import math\n",
    "from utils import *\n",
    "from octave_burst import *"
   ]
  },
  {
   "cell_type": "code",
   "execution_count": null,
   "metadata": {},
   "outputs": [
    {
     "data": {
      "application/vnd.jupyter.widget-view+json": {
       "model_id": "4f3b3edddc8d4695989ebd27738f65f6",
       "version_major": 2,
       "version_minor": 0
      },
      "text/plain": [
       "interactive(children=(IntSlider(value=1, description='min_edo', max=313, min=1), IntSlider(value=93, descripti…"
      ]
     },
     "metadata": {},
     "output_type": "display_data"
    }
   ],
   "source": [
    "import matplotlib.pyplot as plot\n",
    "import ipywidgets as widgets\n",
    "\n",
    "min_edo_slider = widgets.IntSlider(1, min=1, max=313)\n",
    "max_edo_slider = widgets.IntSlider(31*3, min=1, max=313)\n",
    "generator_slider = widgets.FloatSlider(696.77, min=0.01, max=1200.0, step=0.01)\n",
    "gen_fine_slider =  widgets.FloatSlider(-20, min=0.01, max=20.0, step=0.01)\n",
    "size_slider = widgets.IntSlider(7, min=1, max=500)\n",
    "mode_slider = widgets.IntSlider(0, min=0, max=313)\n",
    "theta_scale_slider = widgets.FloatSlider(2*0.01, min=0.01, max=10, step=0.01)\n",
    "radius_scalar_slider = widgets.IntSlider(0, min=0, max=313)\n",
    "\n",
    "mode_select = widgets.Select(options=[\"ET\", \"E-RT\"], value=\"ET\")\n",
    "\n",
    "@widgets.interact(min_edo=min_edo_slider, max_edo=max_edo_slider, theta_a=theta_scale_slider, burst_mode=mode_select, generator=generator_slider,gen_fine=gen_fine_slider, size=size_slider, mode=mode_slider, radius_scalar=radius_scalar_slider)\n",
    "def draw_burst(**kwArgs):\n",
    "    \n",
    "    if kwArgs[\"burst_mode\"] == \"E-RT\":\n",
    "        gen = kwArgs[\"generator\"] + kwArgs[\"gen_fine\"]\n",
    "        scale = temperament_burst(generator=gen, size=kwArgs[\"size\"], mode=kwArgs[\"mode\"], max_edo=kwArgs[\"max_edo\"])\n",
    "    else:\n",
    "        scale = et_burst_scale(kwArgs[\"min_edo\"], kwArgs[\"max_edo\"])\n",
    "    \n",
    "    burst = create_burst(scale, 1200.0, kwArgs[\"theta_a\"], kwArgs[\"radius_scalar\"])\n",
    "\n",
    "    fig = plot.figure(figsize=(10,10))\n",
    "    ax = plot.subplot(111, projection='polar')\n",
    "    ax.set_theta_direction(-1)\n",
    "    ax.set_theta_offset(math.pi/2)\n",
    "    ax.set_rlim(0, 1)\n",
    "    ax.plot(burst[0], burst[1], 'bo-')\n",
    "\n",
    "\n"
   ]
  },
  {
   "cell_type": "code",
   "execution_count": null,
   "metadata": {},
   "outputs": [
    {
     "data": {
      "application/vnd.jupyter.widget-view+json": {
       "model_id": "1f98d90200e34e4ea0c74b1cf2341954",
       "version_major": 2,
       "version_minor": 0
      },
      "text/plain": [
       "interactive(children=(IntSlider(value=128, description='resolution', max=1024, min=8), IntSlider(value=313, de…"
      ]
     },
     "metadata": {},
     "output_type": "display_data"
    }
   ],
   "source": [
    "\n",
    "res_slider=widgets.IntSlider(128, min=8, max=1024)\n",
    "max_edo_slider=widgets.IntSlider(313, min=1, max=9390)\n",
    "cents_window_slider=widgets.FloatSlider(1, min=1e-3, max=10, step=1e-6)\n",
    "@widgets.interact(resolution=res_slider, max_edo=max_edo_slider, cents_window=cents_window_slider)\n",
    "def draw_burst_gradient(**kwArgs):\n",
    "    \n",
    "    grid = make_burst_gradient(resolution=kwArgs[\"resolution\"], max_edo=kwArgs[\"max_edo\"], cents_window=kwArgs[\"cents_window\"], optimized=False)\n",
    "\n",
    "    plot.figure(figsize=(10,10))\n",
    "    plot.imshow(grid)"
   ]
  }
 ],
 "metadata": {
  "kernelspec": {
   "display_name": "Python 3",
   "language": "python",
   "name": "python3"
  },
  "language_info": {
   "codemirror_mode": {
    "name": "ipython",
    "version": 3
   },
   "file_extension": ".py",
   "mimetype": "text/x-python",
   "name": "python",
   "nbconvert_exporter": "python",
   "pygments_lexer": "ipython3",
   "version": "3.10.7"
  }
 },
 "nbformat": 4,
 "nbformat_minor": 2
}
